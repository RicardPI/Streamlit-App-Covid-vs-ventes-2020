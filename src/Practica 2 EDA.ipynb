{
 "cells": [
  {
   "cell_type": "code",
   "execution_count": 30,
   "id": "37adb18b",
   "metadata": {},
   "outputs": [],
   "source": [
    "import pandas as pd \n",
    "import numpy as np\n",
    "import matplotlib.pyplot as plt\n",
    "import seaborn as sns\n",
    "\n",
    "%config Completer.use_jedi = False\n",
    "%matplotlib inline"
   ]
  },
  {
   "cell_type": "code",
   "execution_count": 31,
   "id": "8cf879b1",
   "metadata": {},
   "outputs": [
    {
     "data": {
      "text/html": [
       "<div><div id=90928e84-16bd-41e1-9f3a-c9bf0450d12f style=\"display:none; background-color:#9D6CFF; color:white; width:200px; height:30px; padding-left:5px; border-radius:4px; flex-direction:row; justify-content:space-around; align-items:center;\" onmouseover=\"this.style.backgroundColor='#BA9BF8'\" onmouseout=\"this.style.backgroundColor='#9D6CFF'\" onclick=\"window.commands?.execute('create-mitosheet-from-dataframe-output');\">See Full Dataframe in Mito</div> <script> if (window.commands?.hasCommand('create-mitosheet-from-dataframe-output')) document.getElementById('90928e84-16bd-41e1-9f3a-c9bf0450d12f').style.display = 'flex' </script> <table border=\"1\" class=\"dataframe\">\n",
       "  <thead>\n",
       "    <tr style=\"text-align: right;\">\n",
       "      <th></th>\n",
       "      <th>Fecha</th>\n",
       "      <th>TipoEstablecimiento</th>\n",
       "      <th>Familia</th>\n",
       "      <th>Importe Venta</th>\n",
       "    </tr>\n",
       "  </thead>\n",
       "  <tbody>\n",
       "    <tr>\n",
       "      <th>0</th>\n",
       "      <td>2020-12-31</td>\n",
       "      <td>VID - VIDEO CLUB-LOCUTORIO</td>\n",
       "      <td>CARAMELOS DE GOMA</td>\n",
       "      <td>425.082</td>\n",
       "    </tr>\n",
       "    <tr>\n",
       "      <th>1</th>\n",
       "      <td>2020-12-31</td>\n",
       "      <td>VID - VIDEO CLUB-LOCUTORIO</td>\n",
       "      <td>CARAMELOS</td>\n",
       "      <td>288.480</td>\n",
       "    </tr>\n",
       "    <tr>\n",
       "      <th>2</th>\n",
       "      <td>2020-12-31</td>\n",
       "      <td>VID - VIDEO CLUB-LOCUTORIO</td>\n",
       "      <td>CHOCOLATES SNACKS</td>\n",
       "      <td>237.468</td>\n",
       "    </tr>\n",
       "    <tr>\n",
       "      <th>3</th>\n",
       "      <td>2020-12-31</td>\n",
       "      <td>VID - VIDEO CLUB-LOCUTORIO</td>\n",
       "      <td>REGALIZ</td>\n",
       "      <td>187.980</td>\n",
       "    </tr>\n",
       "    <tr>\n",
       "      <th>4</th>\n",
       "      <td>2020-12-31</td>\n",
       "      <td>VID - VIDEO CLUB-LOCUTORIO</td>\n",
       "      <td>BEBIDAS</td>\n",
       "      <td>120.006</td>\n",
       "    </tr>\n",
       "  </tbody>\n",
       "</table></div>"
      ],
      "text/plain": [
       "       Fecha         TipoEstablecimiento            Familia  Importe Venta\n",
       "0 2020-12-31  VID - VIDEO CLUB-LOCUTORIO  CARAMELOS DE GOMA        425.082\n",
       "1 2020-12-31  VID - VIDEO CLUB-LOCUTORIO          CARAMELOS        288.480\n",
       "2 2020-12-31  VID - VIDEO CLUB-LOCUTORIO  CHOCOLATES SNACKS        237.468\n",
       "3 2020-12-31  VID - VIDEO CLUB-LOCUTORIO            REGALIZ        187.980\n",
       "4 2020-12-31  VID - VIDEO CLUB-LOCUTORIO            BEBIDAS        120.006"
      ]
     },
     "execution_count": 31,
     "metadata": {},
     "output_type": "execute_result"
    }
   ],
   "source": [
    "# Càrrega de les dades a visualitzar\n",
    "df=pd.read_excel(\"https://raw.githubusercontent.com/RicardPI/Streamlit-App-Covid-vs-ventes-2020/master/Data/Dades_Ventes.xlsx\")\n",
    "df.drop(columns=\"Unnamed: 0\",inplace=True)\n",
    "df.head()"
   ]
  },
  {
   "cell_type": "code",
   "execution_count": 32,
   "id": "b90631c2",
   "metadata": {},
   "outputs": [
    {
     "data": {
      "text/plain": [
       "Fecha                  0\n",
       "TipoEstablecimiento    0\n",
       "Familia                0\n",
       "Importe Venta          0\n",
       "dtype: int64"
      ]
     },
     "execution_count": 32,
     "metadata": {},
     "output_type": "execute_result"
    }
   ],
   "source": [
    "#Check de valors nulls\n",
    "\n",
    "df.isna().sum()"
   ]
  },
  {
   "cell_type": "code",
   "execution_count": 33,
   "id": "93a6c144",
   "metadata": {},
   "outputs": [
    {
     "data": {
      "text/html": [
       "<div><div id=ff64b1be-5fa1-48e2-b3a8-d215257a5ad7 style=\"display:none; background-color:#9D6CFF; color:white; width:200px; height:30px; padding-left:5px; border-radius:4px; flex-direction:row; justify-content:space-around; align-items:center;\" onmouseover=\"this.style.backgroundColor='#BA9BF8'\" onmouseout=\"this.style.backgroundColor='#9D6CFF'\" onclick=\"window.commands?.execute('create-mitosheet-from-dataframe-output');\">See Full Dataframe in Mito</div> <script> if (window.commands?.hasCommand('create-mitosheet-from-dataframe-output')) document.getElementById('ff64b1be-5fa1-48e2-b3a8-d215257a5ad7').style.display = 'flex' </script> <table border=\"1\" class=\"dataframe\">\n",
       "  <thead>\n",
       "    <tr style=\"text-align: right;\">\n",
       "      <th></th>\n",
       "      <th>setmana_epidemiologica</th>\n",
       "      <th>any</th>\n",
       "      <th>data_inici</th>\n",
       "      <th>data_final</th>\n",
       "      <th>codi_regio</th>\n",
       "      <th>nom_regio</th>\n",
       "      <th>codi_ambit</th>\n",
       "      <th>nom_ambit</th>\n",
       "      <th>sexe</th>\n",
       "      <th>grup_edat</th>\n",
       "      <th>index_socioeconomic</th>\n",
       "      <th>casos</th>\n",
       "      <th>poblacio</th>\n",
       "    </tr>\n",
       "  </thead>\n",
       "  <tbody>\n",
       "    <tr>\n",
       "      <th>0</th>\n",
       "      <td>27</td>\n",
       "      <td>2022</td>\n",
       "      <td>04/07/2022</td>\n",
       "      <td>10/07/2022</td>\n",
       "      <td>78</td>\n",
       "      <td>BARCELONA</td>\n",
       "      <td>7803</td>\n",
       "      <td>BARCELONA CIUTAT</td>\n",
       "      <td>Home</td>\n",
       "      <td>80 o més</td>\n",
       "      <td>3</td>\n",
       "      <td>8.0</td>\n",
       "      <td>10856.0</td>\n",
       "    </tr>\n",
       "    <tr>\n",
       "      <th>1</th>\n",
       "      <td>44</td>\n",
       "      <td>2022</td>\n",
       "      <td>31/10/2022</td>\n",
       "      <td>06/11/2022</td>\n",
       "      <td>78</td>\n",
       "      <td>BARCELONA</td>\n",
       "      <td>7802</td>\n",
       "      <td>METROPOLITANA NORD</td>\n",
       "      <td>Dona</td>\n",
       "      <td>80 o més</td>\n",
       "      <td>2</td>\n",
       "      <td>1.0</td>\n",
       "      <td>15330.0</td>\n",
       "    </tr>\n",
       "    <tr>\n",
       "      <th>2</th>\n",
       "      <td>4</td>\n",
       "      <td>2022</td>\n",
       "      <td>24/01/2022</td>\n",
       "      <td>30/01/2022</td>\n",
       "      <td>78</td>\n",
       "      <td>BARCELONA</td>\n",
       "      <td>7802</td>\n",
       "      <td>METROPOLITANA NORD</td>\n",
       "      <td>Home</td>\n",
       "      <td>80 o més</td>\n",
       "      <td>4</td>\n",
       "      <td>8.0</td>\n",
       "      <td>7642.0</td>\n",
       "    </tr>\n",
       "    <tr>\n",
       "      <th>3</th>\n",
       "      <td>32</td>\n",
       "      <td>2022</td>\n",
       "      <td>08/08/2022</td>\n",
       "      <td>14/08/2022</td>\n",
       "      <td>78</td>\n",
       "      <td>BARCELONA</td>\n",
       "      <td>7803</td>\n",
       "      <td>BARCELONA CIUTAT</td>\n",
       "      <td>Home</td>\n",
       "      <td>80 o més</td>\n",
       "      <td>3</td>\n",
       "      <td>2.0</td>\n",
       "      <td>10856.0</td>\n",
       "    </tr>\n",
       "    <tr>\n",
       "      <th>4</th>\n",
       "      <td>45</td>\n",
       "      <td>2022</td>\n",
       "      <td>07/11/2022</td>\n",
       "      <td>13/11/2022</td>\n",
       "      <td>64</td>\n",
       "      <td>GIRONA</td>\n",
       "      <td>6400</td>\n",
       "      <td>GIRONA</td>\n",
       "      <td>Home</td>\n",
       "      <td>70 a 79</td>\n",
       "      <td>3</td>\n",
       "      <td>1.0</td>\n",
       "      <td>18494.0</td>\n",
       "    </tr>\n",
       "  </tbody>\n",
       "</table></div>"
      ],
      "text/plain": [
       "   setmana_epidemiologica   any  data_inici  data_final  codi_regio  \\\n",
       "0                      27  2022  04/07/2022  10/07/2022          78   \n",
       "1                      44  2022  31/10/2022  06/11/2022          78   \n",
       "2                       4  2022  24/01/2022  30/01/2022          78   \n",
       "3                      32  2022  08/08/2022  14/08/2022          78   \n",
       "4                      45  2022  07/11/2022  13/11/2022          64   \n",
       "\n",
       "   nom_regio  codi_ambit           nom_ambit  sexe grup_edat  \\\n",
       "0  BARCELONA        7803    BARCELONA CIUTAT  Home  80 o més   \n",
       "1  BARCELONA        7802  METROPOLITANA NORD  Dona  80 o més   \n",
       "2  BARCELONA        7802  METROPOLITANA NORD  Home  80 o més   \n",
       "3  BARCELONA        7803    BARCELONA CIUTAT  Home  80 o més   \n",
       "4     GIRONA        6400              GIRONA  Home   70 a 79   \n",
       "\n",
       "   index_socioeconomic  casos  poblacio  \n",
       "0                    3    8.0   10856.0  \n",
       "1                    2    1.0   15330.0  \n",
       "2                    4    8.0    7642.0  \n",
       "3                    3    2.0   10856.0  \n",
       "4                    3    1.0   18494.0  "
      ]
     },
     "execution_count": 33,
     "metadata": {},
     "output_type": "execute_result"
    }
   ],
   "source": [
    "#Càrrega de les dades de covid:\n",
    "#Font = https://analisi.transparenciacatalunya.cat/es/browse?q=covid&sortBy=relevance\n",
    "\n",
    "covid = pd.read_csv(\"https://raw.githubusercontent.com/RicardPI/Streamlit-App-Covid-vs-ventes-2020/master/Data/COVID-19__Defuncions.csv\")\n",
    "covid.head()"
   ]
  },
  {
   "cell_type": "code",
   "execution_count": 34,
   "id": "4dbe771e",
   "metadata": {},
   "outputs": [
    {
     "data": {
      "text/plain": [
       "setmana_epidemiologica    0\n",
       "any                       0\n",
       "data_inici                0\n",
       "data_final                0\n",
       "codi_regio                0\n",
       "nom_regio                 0\n",
       "codi_ambit                0\n",
       "nom_ambit                 0\n",
       "sexe                      0\n",
       "grup_edat                 0\n",
       "index_socioeconomic       0\n",
       "casos                     0\n",
       "poblacio                  0\n",
       "dtype: int64"
      ]
     },
     "execution_count": 34,
     "metadata": {},
     "output_type": "execute_result"
    }
   ],
   "source": [
    "#Check de valors nulls\n",
    "\n",
    "covid.isna().sum()"
   ]
  },
  {
   "cell_type": "code",
   "execution_count": 35,
   "id": "68079117",
   "metadata": {},
   "outputs": [
    {
     "data": {
      "text/html": [
       "<div><div id=8d32742c-8804-4b31-bafe-2045488bc1ef style=\"display:none; background-color:#9D6CFF; color:white; width:200px; height:30px; padding-left:5px; border-radius:4px; flex-direction:row; justify-content:space-around; align-items:center;\" onmouseover=\"this.style.backgroundColor='#BA9BF8'\" onmouseout=\"this.style.backgroundColor='#9D6CFF'\" onclick=\"window.commands?.execute('create-mitosheet-from-dataframe-output');\">See Full Dataframe in Mito</div> <script> if (window.commands?.hasCommand('create-mitosheet-from-dataframe-output')) document.getElementById('8d32742c-8804-4b31-bafe-2045488bc1ef').style.display = 'flex' </script> <table border=\"1\" class=\"dataframe\">\n",
       "  <thead>\n",
       "    <tr style=\"text-align: right;\">\n",
       "      <th></th>\n",
       "      <th>setmana_epidemiologica</th>\n",
       "      <th>any</th>\n",
       "      <th>data_inici</th>\n",
       "      <th>data_final</th>\n",
       "      <th>codi_regio</th>\n",
       "      <th>nom_regio</th>\n",
       "      <th>codi_ambit</th>\n",
       "      <th>nom_ambit</th>\n",
       "      <th>sexe</th>\n",
       "      <th>grup_edat</th>\n",
       "      <th>index_socioeconomic</th>\n",
       "      <th>casos</th>\n",
       "      <th>poblacio</th>\n",
       "    </tr>\n",
       "  </thead>\n",
       "  <tbody>\n",
       "    <tr>\n",
       "      <th>204</th>\n",
       "      <td>53</td>\n",
       "      <td>2020</td>\n",
       "      <td>28/12/2020</td>\n",
       "      <td>03/01/2021</td>\n",
       "      <td>64</td>\n",
       "      <td>GIRONA</td>\n",
       "      <td>6400</td>\n",
       "      <td>GIRONA</td>\n",
       "      <td>Home</td>\n",
       "      <td>60 a 69</td>\n",
       "      <td>2</td>\n",
       "      <td>1.0</td>\n",
       "      <td>3287.0</td>\n",
       "    </tr>\n",
       "    <tr>\n",
       "      <th>218</th>\n",
       "      <td>19</td>\n",
       "      <td>2020</td>\n",
       "      <td>04/05/2020</td>\n",
       "      <td>10/05/2020</td>\n",
       "      <td>64</td>\n",
       "      <td>GIRONA</td>\n",
       "      <td>6400</td>\n",
       "      <td>GIRONA</td>\n",
       "      <td>Home</td>\n",
       "      <td>60 a 69</td>\n",
       "      <td>2</td>\n",
       "      <td>1.0</td>\n",
       "      <td>3287.0</td>\n",
       "    </tr>\n",
       "    <tr>\n",
       "      <th>241</th>\n",
       "      <td>14</td>\n",
       "      <td>2020</td>\n",
       "      <td>30/03/2020</td>\n",
       "      <td>05/04/2020</td>\n",
       "      <td>64</td>\n",
       "      <td>GIRONA</td>\n",
       "      <td>6400</td>\n",
       "      <td>GIRONA</td>\n",
       "      <td>Home</td>\n",
       "      <td>60 a 69</td>\n",
       "      <td>2</td>\n",
       "      <td>1.0</td>\n",
       "      <td>3287.0</td>\n",
       "    </tr>\n",
       "    <tr>\n",
       "      <th>323</th>\n",
       "      <td>31</td>\n",
       "      <td>2020</td>\n",
       "      <td>27/07/2020</td>\n",
       "      <td>02/08/2020</td>\n",
       "      <td>64</td>\n",
       "      <td>GIRONA</td>\n",
       "      <td>6400</td>\n",
       "      <td>GIRONA</td>\n",
       "      <td>Home</td>\n",
       "      <td>80 o més</td>\n",
       "      <td>4</td>\n",
       "      <td>1.0</td>\n",
       "      <td>6197.0</td>\n",
       "    </tr>\n",
       "    <tr>\n",
       "      <th>412</th>\n",
       "      <td>46</td>\n",
       "      <td>2020</td>\n",
       "      <td>09/11/2020</td>\n",
       "      <td>15/11/2020</td>\n",
       "      <td>64</td>\n",
       "      <td>GIRONA</td>\n",
       "      <td>6400</td>\n",
       "      <td>GIRONA</td>\n",
       "      <td>Dona</td>\n",
       "      <td>80 o més</td>\n",
       "      <td>4</td>\n",
       "      <td>11.0</td>\n",
       "      <td>10436.0</td>\n",
       "    </tr>\n",
       "  </tbody>\n",
       "</table></div>"
      ],
      "text/plain": [
       "     setmana_epidemiologica   any  data_inici  data_final  codi_regio  \\\n",
       "204                      53  2020  28/12/2020  03/01/2021          64   \n",
       "218                      19  2020  04/05/2020  10/05/2020          64   \n",
       "241                      14  2020  30/03/2020  05/04/2020          64   \n",
       "323                      31  2020  27/07/2020  02/08/2020          64   \n",
       "412                      46  2020  09/11/2020  15/11/2020          64   \n",
       "\n",
       "    nom_regio  codi_ambit nom_ambit  sexe grup_edat  index_socioeconomic  \\\n",
       "204    GIRONA        6400    GIRONA  Home   60 a 69                    2   \n",
       "218    GIRONA        6400    GIRONA  Home   60 a 69                    2   \n",
       "241    GIRONA        6400    GIRONA  Home   60 a 69                    2   \n",
       "323    GIRONA        6400    GIRONA  Home  80 o més                    4   \n",
       "412    GIRONA        6400    GIRONA  Dona  80 o més                    4   \n",
       "\n",
       "     casos  poblacio  \n",
       "204    1.0    3287.0  \n",
       "218    1.0    3287.0  \n",
       "241    1.0    3287.0  \n",
       "323    1.0    6197.0  \n",
       "412   11.0   10436.0  "
      ]
     },
     "execution_count": 35,
     "metadata": {},
     "output_type": "execute_result"
    }
   ],
   "source": [
    "#Es filtra la regio de girona i l'any 2020\n",
    "covid=covid[(covid.codi_regio == 64) & (covid[\"any\"] == 2020)]\n",
    "covid.head()"
   ]
  },
  {
   "cell_type": "markdown",
   "id": "d1ddd740",
   "metadata": {},
   "source": [
    "Els dos datasets a tractar estan sense valors nuls. En el cas del dataset de ventes, és un dataset que ve sense cap outlier i té un control escrúpul per a que estigui llest per a ser tractat.\n",
    "En el cas del dataset del covid no se sap. Per això faré un boxplot per detectar possibles valors outliers en la variable casos de covid (és la variable que utilitzarem per detectar les onades de covid del 2020)."
   ]
  },
  {
   "cell_type": "markdown",
   "id": "bc6ab2f0",
   "metadata": {},
   "source": [
    "### Anàlisi outliers de casos en el dataset covid\n",
    "\n",
    "Amb les dades descriptives no s'observa cap tipus d'outlier en la variable casos"
   ]
  },
  {
   "cell_type": "code",
   "execution_count": 36,
   "id": "ab8e67b6",
   "metadata": {},
   "outputs": [
    {
     "name": "stdout",
     "output_type": "stream",
     "text": [
      "                        casos\n",
      "setmana_epidemiologica       \n",
      "12                       27.0\n",
      "13                      114.0\n",
      "14                      143.0\n",
      "15                      144.0\n",
      "16                      104.0 \n",
      "\n",
      "Estadística descriptiva\n",
      " count     42.000000\n",
      "mean      37.642857\n",
      "std       38.437038\n",
      "min        1.000000\n",
      "25%        6.250000\n",
      "50%       21.500000\n",
      "75%       59.750000\n",
      "max      144.000000\n",
      "Name: casos, dtype: float64\n"
     ]
    }
   ],
   "source": [
    "# Es fa un pivot table per agregar les morts en setmanes.\n",
    "\n",
    "casos_setmanals = covid.pivot_table(index=\"setmana_epidemiologica\",values=\"casos\",aggfunc=\"sum\")\n",
    "print(casos_setmanals.head(),\"\\n\")\n",
    "print(\"Estadística descriptiva\\n\",casos_setmanals.casos.describe())"
   ]
  },
  {
   "cell_type": "code",
   "execution_count": 37,
   "id": "d974755e",
   "metadata": {},
   "outputs": [
    {
     "data": {
      "image/png": "[encoded data removed]",
      "text/plain": [
       "<Figure size 640x480 with 1 Axes>"
      ]
     },
     "metadata": {},
     "output_type": "display_data"
    }
   ],
   "source": [
    "sns.boxplot(data=casos_setmanals,x=\"casos\")\n",
    "#reset d'index\n",
    "casos_setmanals.reset_index(inplace=True)"
   ]
  },
  {
   "cell_type": "markdown",
   "id": "d984fb40",
   "metadata": {},
   "source": [
    "S'observa un cas de 144 morts en una setmana, en el cas de catalunya a les onades màximes del 2020, es morien 800 persones al dia per lo que és perfectament plausible que en la provincia de girona hi haguessin 144 morts en una setmana i en temps de pic. És per això que no es considera un outlier.\n",
    "\n",
    "Dit això, és considera que la dada és bona per als dos datasets\n",
    "\n",
    "## Observació de les morts per covid a partir de la setmana 12 del 2020 a  la provincia de girona"
   ]
  },
  {
   "cell_type": "code",
   "execution_count": 38,
   "id": "a11b54c1",
   "metadata": {},
   "outputs": [
    {
     "data": {
      "text/plain": [
       "<AxesSubplot:ylabel='casos'>"
      ]
     },
     "execution_count": 38,
     "metadata": {},
     "output_type": "execute_result"
    },
    {
     "data": {
      "image/png": "[encoded data removed]",
      "text/plain": [
       "<Figure size 1200x600 with 1 Axes>"
      ]
     },
     "metadata": {},
     "output_type": "display_data"
    }
   ],
   "source": [
    "fig = plt.figure(figsize=(12,6))\n",
    "sns.lineplot(data =casos_setmanals,y=casos_setmanals.casos,x=casos_setmanals.index)"
   ]
  },
  {
   "cell_type": "markdown",
   "id": "864fb3ed",
   "metadata": {},
   "source": [
    "## Creació de calendari i agrupament del dataset de ventes per setmana, tipo d'establiment i familia"
   ]
  },
  {
   "cell_type": "code",
   "execution_count": 39,
   "id": "e738d2aa",
   "metadata": {},
   "outputs": [
    {
     "data": {
      "text/html": [
       "<div><div id=7dcffb14-508b-4159-a1a0-4adf541d913a style=\"display:none; background-color:#9D6CFF; color:white; width:200px; height:30px; padding-left:5px; border-radius:4px; flex-direction:row; justify-content:space-around; align-items:center;\" onmouseover=\"this.style.backgroundColor='#BA9BF8'\" onmouseout=\"this.style.backgroundColor='#9D6CFF'\" onclick=\"window.commands?.execute('create-mitosheet-from-dataframe-output');\">See Full Dataframe in Mito</div> <script> if (window.commands?.hasCommand('create-mitosheet-from-dataframe-output')) document.getElementById('7dcffb14-508b-4159-a1a0-4adf541d913a').style.display = 'flex' </script> <table border=\"1\" class=\"dataframe\">\n",
       "  <thead>\n",
       "    <tr style=\"text-align: right;\">\n",
       "      <th></th>\n",
       "      <th>data</th>\n",
       "      <th>Mes</th>\n",
       "      <th>Setmana</th>\n",
       "    </tr>\n",
       "  </thead>\n",
       "  <tbody>\n",
       "    <tr>\n",
       "      <th>0</th>\n",
       "      <td>2020-01-01</td>\n",
       "      <td>1</td>\n",
       "      <td>1</td>\n",
       "    </tr>\n",
       "    <tr>\n",
       "      <th>1</th>\n",
       "      <td>2020-01-02</td>\n",
       "      <td>1</td>\n",
       "      <td>1</td>\n",
       "    </tr>\n",
       "    <tr>\n",
       "      <th>2</th>\n",
       "      <td>2020-01-03</td>\n",
       "      <td>1</td>\n",
       "      <td>1</td>\n",
       "    </tr>\n",
       "    <tr>\n",
       "      <th>3</th>\n",
       "      <td>2020-01-04</td>\n",
       "      <td>1</td>\n",
       "      <td>1</td>\n",
       "    </tr>\n",
       "    <tr>\n",
       "      <th>4</th>\n",
       "      <td>2020-01-05</td>\n",
       "      <td>1</td>\n",
       "      <td>1</td>\n",
       "    </tr>\n",
       "  </tbody>\n",
       "</table></div>"
      ],
      "text/plain": [
       "        data  Mes  Setmana\n",
       "0 2020-01-01    1        1\n",
       "1 2020-01-02    1        1\n",
       "2 2020-01-03    1        1\n",
       "3 2020-01-04    1        1\n",
       "4 2020-01-05    1        1"
      ]
     },
     "execution_count": 39,
     "metadata": {},
     "output_type": "execute_result"
    }
   ],
   "source": [
    "# primer de tot es crea un calendari per indicar a quina setmana pertany cada data en el 2020.\n",
    "calendari = pd.DataFrame( {\"data\":pd.date_range(\"2020-01-01\",\"2020-12-31\")})\n",
    "calendari[\"Mes\"] = calendari.data.dt.month\n",
    "calendari[\"Setmana\"] = calendari.data.dt.isocalendar().week\n",
    "calendari.head()"
   ]
  },
  {
   "cell_type": "code",
   "execution_count": 40,
   "id": "9e9a6f9f",
   "metadata": {},
   "outputs": [
    {
     "data": {
      "text/html": [
       "<div><div id=7ab9e8c9-2be1-4eed-9826-8c4f83df6647 style=\"display:none; background-color:#9D6CFF; color:white; width:200px; height:30px; padding-left:5px; border-radius:4px; flex-direction:row; justify-content:space-around; align-items:center;\" onmouseover=\"this.style.backgroundColor='#BA9BF8'\" onmouseout=\"this.style.backgroundColor='#9D6CFF'\" onclick=\"window.commands?.execute('create-mitosheet-from-dataframe-output');\">See Full Dataframe in Mito</div> <script> if (window.commands?.hasCommand('create-mitosheet-from-dataframe-output')) document.getElementById('7ab9e8c9-2be1-4eed-9826-8c4f83df6647').style.display = 'flex' </script> <table border=\"1\" class=\"dataframe\">\n",
       "  <thead>\n",
       "    <tr style=\"text-align: right;\">\n",
       "      <th></th>\n",
       "      <th>Fecha</th>\n",
       "      <th>TipoEstablecimiento</th>\n",
       "      <th>Familia</th>\n",
       "      <th>Importe Venta</th>\n",
       "      <th>Mes</th>\n",
       "      <th>Setmana</th>\n",
       "    </tr>\n",
       "  </thead>\n",
       "  <tbody>\n",
       "    <tr>\n",
       "      <th>0</th>\n",
       "      <td>2020-12-31</td>\n",
       "      <td>VID - VIDEO CLUB-LOCUTORIO</td>\n",
       "      <td>CARAMELOS DE GOMA</td>\n",
       "      <td>425.082</td>\n",
       "      <td>12</td>\n",
       "      <td>53</td>\n",
       "    </tr>\n",
       "    <tr>\n",
       "      <th>1</th>\n",
       "      <td>2020-12-31</td>\n",
       "      <td>VID - VIDEO CLUB-LOCUTORIO</td>\n",
       "      <td>CARAMELOS</td>\n",
       "      <td>288.480</td>\n",
       "      <td>12</td>\n",
       "      <td>53</td>\n",
       "    </tr>\n",
       "    <tr>\n",
       "      <th>2</th>\n",
       "      <td>2020-12-31</td>\n",
       "      <td>VID - VIDEO CLUB-LOCUTORIO</td>\n",
       "      <td>CHOCOLATES SNACKS</td>\n",
       "      <td>237.468</td>\n",
       "      <td>12</td>\n",
       "      <td>53</td>\n",
       "    </tr>\n",
       "    <tr>\n",
       "      <th>3</th>\n",
       "      <td>2020-12-31</td>\n",
       "      <td>VID - VIDEO CLUB-LOCUTORIO</td>\n",
       "      <td>REGALIZ</td>\n",
       "      <td>187.980</td>\n",
       "      <td>12</td>\n",
       "      <td>53</td>\n",
       "    </tr>\n",
       "    <tr>\n",
       "      <th>4</th>\n",
       "      <td>2020-12-31</td>\n",
       "      <td>VID - VIDEO CLUB-LOCUTORIO</td>\n",
       "      <td>BEBIDAS</td>\n",
       "      <td>120.006</td>\n",
       "      <td>12</td>\n",
       "      <td>53</td>\n",
       "    </tr>\n",
       "  </tbody>\n",
       "</table></div>"
      ],
      "text/plain": [
       "       Fecha         TipoEstablecimiento            Familia  Importe Venta  \\\n",
       "0 2020-12-31  VID - VIDEO CLUB-LOCUTORIO  CARAMELOS DE GOMA        425.082   \n",
       "1 2020-12-31  VID - VIDEO CLUB-LOCUTORIO          CARAMELOS        288.480   \n",
       "2 2020-12-31  VID - VIDEO CLUB-LOCUTORIO  CHOCOLATES SNACKS        237.468   \n",
       "3 2020-12-31  VID - VIDEO CLUB-LOCUTORIO            REGALIZ        187.980   \n",
       "4 2020-12-31  VID - VIDEO CLUB-LOCUTORIO            BEBIDAS        120.006   \n",
       "\n",
       "   Mes  Setmana  \n",
       "0   12       53  \n",
       "1   12       53  \n",
       "2   12       53  \n",
       "3   12       53  \n",
       "4   12       53  "
      ]
     },
     "execution_count": 40,
     "metadata": {},
     "output_type": "execute_result"
    }
   ],
   "source": [
    "# Es fa un left join del dataframe df amb el calendari, amb la paraula clau data\n",
    "df=df.merge(calendari,how=\"left\",left_on=\"Fecha\",right_on=\"data\")\n",
    "df.drop(columns=\"data\",inplace=True)\n",
    "df.head()"
   ]
  },
  {
   "cell_type": "code",
   "execution_count": 41,
   "id": "80f4e646",
   "metadata": {},
   "outputs": [],
   "source": [
    "# S'agrupa les ventes en funció de tipo d'establiment, Familia i mes\n",
    "df = df.pivot_table(index=[\"Mes\",\"TipoEstablecimiento\",\"Familia\"],values=\"Importe Venta\",aggfunc=\"sum\")"
   ]
  },
  {
   "cell_type": "code",
   "execution_count": 42,
   "id": "5d50ea93",
   "metadata": {},
   "outputs": [
    {
     "data": {
      "text/html": [
       "<div><div id=896a8f8a-065e-4bce-997b-c5c5d3403c2e style=\"display:none; background-color:#9D6CFF; color:white; width:200px; height:30px; padding-left:5px; border-radius:4px; flex-direction:row; justify-content:space-around; align-items:center;\" onmouseover=\"this.style.backgroundColor='#BA9BF8'\" onmouseout=\"this.style.backgroundColor='#9D6CFF'\" onclick=\"window.commands?.execute('create-mitosheet-from-dataframe-output');\">See Full Dataframe in Mito</div> <script> if (window.commands?.hasCommand('create-mitosheet-from-dataframe-output')) document.getElementById('896a8f8a-065e-4bce-997b-c5c5d3403c2e').style.display = 'flex' </script> <table border=\"1\" class=\"dataframe\">\n",
       "  <thead>\n",
       "    <tr style=\"text-align: right;\">\n",
       "      <th></th>\n",
       "      <th>Mes</th>\n",
       "      <th>TipoEstablecimiento</th>\n",
       "      <th>Familia</th>\n",
       "      <th>Importe Venta</th>\n",
       "    </tr>\n",
       "  </thead>\n",
       "  <tbody>\n",
       "    <tr>\n",
       "      <th>0</th>\n",
       "      <td>1</td>\n",
       "      <td>A - AUTOSERVICIO</td>\n",
       "      <td>ACCESORIOS TIENDAS GOL</td>\n",
       "      <td>1.620</td>\n",
       "    </tr>\n",
       "    <tr>\n",
       "      <th>1</th>\n",
       "      <td>1</td>\n",
       "      <td>A - AUTOSERVICIO</td>\n",
       "      <td>ACEITUNAS Y ENCURTIDOS</td>\n",
       "      <td>55.872</td>\n",
       "    </tr>\n",
       "    <tr>\n",
       "      <th>2</th>\n",
       "      <td>1</td>\n",
       "      <td>A - AUTOSERVICIO</td>\n",
       "      <td>APERITIVOS</td>\n",
       "      <td>809.322</td>\n",
       "    </tr>\n",
       "    <tr>\n",
       "      <th>3</th>\n",
       "      <td>1</td>\n",
       "      <td>A - AUTOSERVICIO</td>\n",
       "      <td>ARTICULOS FUMADOR</td>\n",
       "      <td>92.850</td>\n",
       "    </tr>\n",
       "    <tr>\n",
       "      <th>4</th>\n",
       "      <td>1</td>\n",
       "      <td>A - AUTOSERVICIO</td>\n",
       "      <td>BEBIDAS</td>\n",
       "      <td>753.078</td>\n",
       "    </tr>\n",
       "  </tbody>\n",
       "</table></div>"
      ],
      "text/plain": [
       "   Mes TipoEstablecimiento                 Familia  Importe Venta\n",
       "0    1    A - AUTOSERVICIO  ACCESORIOS TIENDAS GOL          1.620\n",
       "1    1    A - AUTOSERVICIO  ACEITUNAS Y ENCURTIDOS         55.872\n",
       "2    1    A - AUTOSERVICIO              APERITIVOS        809.322\n",
       "3    1    A - AUTOSERVICIO       ARTICULOS FUMADOR         92.850\n",
       "4    1    A - AUTOSERVICIO                 BEBIDAS        753.078"
      ]
     },
     "execution_count": 42,
     "metadata": {},
     "output_type": "execute_result"
    }
   ],
   "source": [
    "df.reset_index(inplace=True)\n",
    "df.head()"
   ]
  },
  {
   "cell_type": "code",
   "execution_count": 43,
   "id": "b0213ceb",
   "metadata": {},
   "outputs": [
    {
     "data": {
      "text/html": [
       "<div><div id=eada3419-a937-4787-9860-81801ac9d1bb style=\"display:none; background-color:#9D6CFF; color:white; width:200px; height:30px; padding-left:5px; border-radius:4px; flex-direction:row; justify-content:space-around; align-items:center;\" onmouseover=\"this.style.backgroundColor='#BA9BF8'\" onmouseout=\"this.style.backgroundColor='#9D6CFF'\" onclick=\"window.commands?.execute('create-mitosheet-from-dataframe-output');\">See Full Dataframe in Mito</div> <script> if (window.commands?.hasCommand('create-mitosheet-from-dataframe-output')) document.getElementById('eada3419-a937-4787-9860-81801ac9d1bb').style.display = 'flex' </script> <table border=\"1\" class=\"dataframe\">\n",
       "  <thead>\n",
       "    <tr style=\"text-align: right;\">\n",
       "      <th></th>\n",
       "      <th>Mes</th>\n",
       "      <th>casos</th>\n",
       "    </tr>\n",
       "  </thead>\n",
       "  <tbody>\n",
       "    <tr>\n",
       "      <th>0</th>\n",
       "      <td>3</td>\n",
       "      <td>284.0</td>\n",
       "    </tr>\n",
       "    <tr>\n",
       "      <th>1</th>\n",
       "      <td>4</td>\n",
       "      <td>556.0</td>\n",
       "    </tr>\n",
       "    <tr>\n",
       "      <th>2</th>\n",
       "      <td>5</td>\n",
       "      <td>195.0</td>\n",
       "    </tr>\n",
       "    <tr>\n",
       "      <th>3</th>\n",
       "      <td>6</td>\n",
       "      <td>30.0</td>\n",
       "    </tr>\n",
       "    <tr>\n",
       "      <th>4</th>\n",
       "      <td>7</td>\n",
       "      <td>21.0</td>\n",
       "    </tr>\n",
       "  </tbody>\n",
       "</table></div>"
      ],
      "text/plain": [
       "   Mes  casos\n",
       "0    3  284.0\n",
       "1    4  556.0\n",
       "2    5  195.0\n",
       "3    6   30.0\n",
       "4    7   21.0"
      ]
     },
     "execution_count": 43,
     "metadata": {},
     "output_type": "execute_result"
    }
   ],
   "source": [
    "#es fa un merge amb el calendari per incorporar el mes\n",
    "casos_setmanals = casos_setmanals.merge(calendari,how=\"left\",left_on=\"setmana_epidemiologica\", right_on=\"Setmana\")\n",
    "casos_setmanals.drop(columns=[\"data\",\"Setmana\"],inplace=True)\n",
    "casos_setmanals.drop_duplicates(inplace=True)\n",
    "\n",
    "#Es fa un resample a mesos\n",
    "casos_setmanals = casos_setmanals.pivot_table(index=\"Mes\",values=\"casos\",aggfunc=\"sum\").reset_index()\n",
    "casos_setmanals.head()"
   ]
  },
  {
   "cell_type": "code",
   "execution_count": null,
   "id": "33fa2088",
   "metadata": {},
   "outputs": [],
   "source": []
  },
  {
   "cell_type": "markdown",
   "id": "23efa22d",
   "metadata": {},
   "source": [
    "## Unió dels dos Datasets, transaccional i morts setmanals de covid"
   ]
  },
  {
   "cell_type": "code",
   "execution_count": 44,
   "id": "57332115",
   "metadata": {},
   "outputs": [
    {
     "data": {
      "text/html": [
       "<div><div id=ac48fa25-1887-4d7d-8bd3-1f46ba7189bd style=\"display:none; background-color:#9D6CFF; color:white; width:200px; height:30px; padding-left:5px; border-radius:4px; flex-direction:row; justify-content:space-around; align-items:center;\" onmouseover=\"this.style.backgroundColor='#BA9BF8'\" onmouseout=\"this.style.backgroundColor='#9D6CFF'\" onclick=\"window.commands?.execute('create-mitosheet-from-dataframe-output');\">See Full Dataframe in Mito</div> <script> if (window.commands?.hasCommand('create-mitosheet-from-dataframe-output')) document.getElementById('ac48fa25-1887-4d7d-8bd3-1f46ba7189bd').style.display = 'flex' </script> <table border=\"1\" class=\"dataframe\">\n",
       "  <thead>\n",
       "    <tr style=\"text-align: right;\">\n",
       "      <th></th>\n",
       "      <th>Mes</th>\n",
       "      <th>TipoEstablecimiento</th>\n",
       "      <th>Familia</th>\n",
       "      <th>Importe Venta</th>\n",
       "      <th>casos</th>\n",
       "    </tr>\n",
       "  </thead>\n",
       "  <tbody>\n",
       "    <tr>\n",
       "      <th>0</th>\n",
       "      <td>1</td>\n",
       "      <td>A - AUTOSERVICIO</td>\n",
       "      <td>ACCESORIOS TIENDAS GOL</td>\n",
       "      <td>1.620</td>\n",
       "      <td>0.0</td>\n",
       "    </tr>\n",
       "    <tr>\n",
       "      <th>1</th>\n",
       "      <td>1</td>\n",
       "      <td>A - AUTOSERVICIO</td>\n",
       "      <td>ACEITUNAS Y ENCURTIDOS</td>\n",
       "      <td>55.872</td>\n",
       "      <td>0.0</td>\n",
       "    </tr>\n",
       "    <tr>\n",
       "      <th>2</th>\n",
       "      <td>1</td>\n",
       "      <td>A - AUTOSERVICIO</td>\n",
       "      <td>APERITIVOS</td>\n",
       "      <td>809.322</td>\n",
       "      <td>0.0</td>\n",
       "    </tr>\n",
       "    <tr>\n",
       "      <th>3</th>\n",
       "      <td>1</td>\n",
       "      <td>A - AUTOSERVICIO</td>\n",
       "      <td>ARTICULOS FUMADOR</td>\n",
       "      <td>92.850</td>\n",
       "      <td>0.0</td>\n",
       "    </tr>\n",
       "    <tr>\n",
       "      <th>4</th>\n",
       "      <td>1</td>\n",
       "      <td>A - AUTOSERVICIO</td>\n",
       "      <td>BEBIDAS</td>\n",
       "      <td>753.078</td>\n",
       "      <td>0.0</td>\n",
       "    </tr>\n",
       "  </tbody>\n",
       "</table></div>"
      ],
      "text/plain": [
       "   Mes TipoEstablecimiento                 Familia  Importe Venta  casos\n",
       "0    1    A - AUTOSERVICIO  ACCESORIOS TIENDAS GOL          1.620    0.0\n",
       "1    1    A - AUTOSERVICIO  ACEITUNAS Y ENCURTIDOS         55.872    0.0\n",
       "2    1    A - AUTOSERVICIO              APERITIVOS        809.322    0.0\n",
       "3    1    A - AUTOSERVICIO       ARTICULOS FUMADOR         92.850    0.0\n",
       "4    1    A - AUTOSERVICIO                 BEBIDAS        753.078    0.0"
      ]
     },
     "execution_count": 44,
     "metadata": {},
     "output_type": "execute_result"
    }
   ],
   "source": [
    "# Unió dels datasets\n",
    "final = df.merge(casos_setmanals,how=\"left\",on=\"Mes\")\n",
    "\n",
    "# Com que no hi han hagut morts finsla setmana 12, fins a aquesta, els casos i setmana epidemiologica s'ha omplert amb valors \n",
    "# nan que els passem a valors nulls.\n",
    "final.fillna(0,inplace=True)\n",
    "#També s'eliminen \n",
    "final.drop_duplicates(inplace=True)\n",
    "final.head()"
   ]
  },
  {
   "cell_type": "markdown",
   "id": "940e8898",
   "metadata": {},
   "source": [
    "## Descàrrega del df final a un arxiu excel per pujar-ho al powerbi"
   ]
  },
  {
   "cell_type": "code",
   "execution_count": 45,
   "id": "e70d215a",
   "metadata": {},
   "outputs": [],
   "source": [
    "# final.to_excel(\"df_final.xlsx\")"
   ]
  },
  {
   "cell_type": "code",
   "execution_count": 46,
   "id": "ca7cea07",
   "metadata": {},
   "outputs": [],
   "source": [
    "# final.to_pickle(\"df_final.pkl\")"
   ]
  }
 ],
 "metadata": {
  "kernelspec": {
   "display_name": "Python [conda env:mitoenv]",
   "language": "python",
   "name": "conda-env-mitoenv-py"
  },
  "language_info": {
   "codemirror_mode": {
    "name": "ipython",
    "version": 3
   },
   "file_extension": ".py",
   "mimetype": "text/x-python",
   "name": "python",
   "nbconvert_exporter": "python",
   "pygments_lexer": "ipython3",
   "version": "3.8.13"
  }
 },
 "nbformat": 4,
 "nbformat_minor": 5
}
